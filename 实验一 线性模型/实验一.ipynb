{
 "cells": [
  {
   "cell_type": "markdown",
   "source": [
    "## 线性回归\n",
    "\n",
    "### 1. 手写代码\n",
    "\n",
    "#### > 最小二乘法"
   ],
   "metadata": {
    "collapsed": false
   },
   "id": "5102a37d1063735c"
  },
  {
   "cell_type": "code",
   "execution_count": 152,
   "outputs": [],
   "source": [
    "import math\n",
    "import numpy as np\n",
    "import pandas as pd\n",
    "from sklearn.metrics import mean_squared_error\n",
    "\n",
    "\n",
    "# 手写线性模型\n",
    "class LinearModel:\n",
    "    def __init__(self):\n",
    "        self.w = np.array([])\n",
    "        pass\n",
    "\n",
    "    # 训练，传入训练集的 X 向量的列表和 Y 的列表\n",
    "    def train(self, x: np.ndarray, y: np.ndarray):\n",
    "        if x.shape[0] != y.shape[0]:\n",
    "            print(f\"error: x's len is not same as y, {x.shape} and {y.shape}\")\n",
    "            exit(1)\n",
    "        x = np.concatenate((np.array([1] * n).reshape((n, 1)), x), axis=1)\n",
    "        # 最小二乘法\n",
    "        self.w = np.linalg.inv(x.T.dot(x)).dot(x.T).dot(y)\n",
    "\n",
    "    # 加载模型，设置 W 向量\n",
    "    def load(self, w: np.ndarray):\n",
    "        self.w = w\n",
    "\n",
    "    # 预测，传入的为 X 向量\n",
    "    def predict(self, x: np.ndarray):\n",
    "        # print(self.w.shape)\n",
    "        # print(x.shape)\n",
    "        return self.w.T.dot(np.concatenate((np.array([1]), x)).T.reshape(self.w.shape))\n",
    "\n",
    "    # 传入用于测试的 x，y\n",
    "    def test(self, test_x: np.ndarray, test_y: np.ndarray):\n",
    "        y = []\n",
    "        for e in test_x:\n",
    "            y.append(self.predict(e)[0])\n",
    "        print(f'mse: {mean_squared_error(y, test_y)}')\n",
    "\n",
    "    def __str__(self):\n",
    "        arr = []\n",
    "        for i, wi in enumerate(self.w):\n",
    "            arr.append(f'{wi[0]}' + (f'x{i}' if i != 0 else ''))\n",
    "        return ' + '.join(arr)\n",
    "\n",
    "\n",
    "df = pd.read_csv('./实验一 线性模型 数据集/housing-data.csv')\n",
    "l = len(df)\n",
    "\n",
    "# 取前 80% 作为训练数据，后 20% 为测试数据\n",
    "train_data = df[:math.floor(l * 0.8)]\n",
    "test_data = df[math.floor(l * 0.8):]\n",
    "\n",
    "# 训练集 y 和 x\n",
    "train_y = np.array(train_data[['price']])\n",
    "train_x = np.array(\n",
    "    train_data[['CRIM', 'ZN', 'INDUS', 'CHAS', 'NOX', 'RM', 'AGE', 'DIS', 'RAD', 'TAX', 'PTRATIO', 'B', 'LSTAT']])\n",
    "n = len(train_y)\n",
    "\n",
    "# 测试集 y 和 x\n",
    "test_y = np.array(train_data[['price']])\n",
    "test_x = np.array(\n",
    "    train_data[['CRIM', 'ZN', 'INDUS', 'CHAS', 'NOX', 'RM', 'AGE', 'DIS', 'RAD', 'TAX', 'PTRATIO', 'B', 'LSTAT']])"
   ],
   "metadata": {
    "collapsed": false,
    "ExecuteTime": {
     "end_time": "2023-10-02T14:56:20.956740Z",
     "start_time": "2023-10-02T14:56:20.937138Z"
    }
   },
   "id": "4dea65535574b7cc"
  },
  {
   "cell_type": "code",
   "execution_count": 153,
   "outputs": [
    {
     "name": "stdout",
     "output_type": "stream",
     "text": [
      "训练结果，W 向量：[[ 3.00771669e+01]\n",
      " [-2.02135297e-01]\n",
      " [ 4.41276341e-02]\n",
      " [ 5.26739364e-02]\n",
      " [ 1.88474315e+00]\n",
      " [-1.49281487e+01]\n",
      " [ 4.76038673e+00]\n",
      " [ 2.88734527e-03]\n",
      " [-1.30025278e+00]\n",
      " [ 4.61661953e-01]\n",
      " [-1.55434673e-02]\n",
      " [-8.11632369e-01]\n",
      " [-1.97174433e-03]\n",
      " [-5.32273431e-01]]\n",
      "预测 x: [6.320e-03 1.800e+01 2.310e+00 0.000e+00 5.380e-01 6.575e+00 6.520e+01\n",
      " 4.090e+00 1.000e+00 2.960e+02 1.530e+01 3.969e+02 4.980e+00]，\n",
      "预测 y: [[29.13979681]]，\n",
      "真实 y:[24.]\n",
      "mse: 22.778379521800783\n"
     ]
    }
   ],
   "source": [
    "linear_model = LinearModel()\n",
    "\n",
    "# 使用训练数据训练模型\n",
    "linear_model.train(train_x, train_y)\n",
    "print(f'训练结果，W 向量：{linear_model.w}')\n",
    "\n",
    "# 预测\n",
    "ans = linear_model.predict(np.array(test_x[0]))\n",
    "print(f'预测 x: {test_x[0]}，\\n预测 y: {ans}，\\n真实 y:{test_y[0]}')\n",
    "\n",
    "# 评估（计算mse）\n",
    "linear_model.test(test_x, test_y)"
   ],
   "metadata": {
    "collapsed": false,
    "ExecuteTime": {
     "end_time": "2023-10-02T14:56:21.065126Z",
     "start_time": "2023-10-02T14:56:20.950274Z"
    }
   },
   "id": "357f1b89630a76bd"
  },
  {
   "cell_type": "markdown",
   "source": [
    "### 2. 调用 API"
   ],
   "metadata": {
    "collapsed": false
   },
   "id": "caf3fa76c62e75be"
  },
  {
   "cell_type": "code",
   "execution_count": 154,
   "outputs": [
    {
     "name": "stdout",
     "output_type": "stream",
     "text": [
      "系数：[[-2.02135297e-01  4.41276341e-02  5.26739364e-02  1.88474315e+00\n",
      "  -1.49281487e+01  4.76038673e+00  2.88734527e-03 -1.30025278e+00\n",
      "   4.61661953e-01 -1.55434673e-02 -8.11632369e-01 -1.97174433e-03\n",
      "  -5.32273431e-01]]\n",
      "预测 x: [6.320e-03 1.800e+01 2.310e+00 0.000e+00 5.380e-01 6.575e+00 6.520e+01\n",
      " 4.090e+00 1.000e+00 2.960e+02 1.530e+01 3.969e+02 4.980e+00]，\n",
      "预测 y: [[29.13979681]]，\n",
      "真实 y:[24.]\n",
      "mse: 22.77837952180079\n"
     ]
    }
   ],
   "source": [
    "import numpy as np\n",
    "from sklearn.linear_model import LinearRegression\n",
    "from sklearn.metrics import mean_squared_error\n",
    "\n",
    "# 样本特征\n",
    "X = np.array(train_x)\n",
    "y = np.array(train_y)\n",
    "\n",
    "# 创建线性回归模型\n",
    "model = LinearRegression()\n",
    "\n",
    "# 训练模型\n",
    "model.fit(X, y)\n",
    "print(f'系数：{model.coef_}')\n",
    "\n",
    "# 预测\n",
    "y_pred = model.predict([test_x[0]])\n",
    "\n",
    "# 打印预测结果\n",
    "print(f'预测 x: {test_x[0]}，\\n预测 y: {y_pred}，\\n真实 y:{test_y[0]}')\n",
    "\n",
    "y = model.predict(test_x)\n",
    "print(f'mse: {mean_squared_error(y, test_y)}')"
   ],
   "metadata": {
    "collapsed": false,
    "ExecuteTime": {
     "end_time": "2023-10-02T14:56:21.118590Z",
     "start_time": "2023-10-02T14:56:21.058848Z"
    }
   },
   "id": "ac45379a839b3f49"
  },
  {
   "cell_type": "markdown",
   "source": [
    "## 逻辑回归"
   ],
   "metadata": {
    "collapsed": false
   },
   "id": "1c68e72ad57ecf6d"
  },
  {
   "cell_type": "markdown",
   "source": [
    "数据预处理\n",
    "剔除缺省值，将数据保存为 csv。\n",
    "这里将class从原先的2与4改为0与1，方便后续计算"
   ],
   "metadata": {
    "collapsed": false
   },
   "id": "5e4947d182ec7326"
  },
  {
   "cell_type": "code",
   "execution_count": 155,
   "outputs": [],
   "source": [
    "with open('实验一 线性模型 数据集/breast-cancer-wisconsin.data', 'r') as f:\n",
    "    data = f.readlines()\n",
    "    arr = []\n",
    "    for line in data:\n",
    "        if line.find('?') > 0:\n",
    "            continue\n",
    "        line = line.replace('\\n', '').split(',')\n",
    "        # print(line)\n",
    "        arr.append({\n",
    "            'Sample code number': int(line[0]),\n",
    "            'Clump Thickness': int(line[1]),\n",
    "            'Uniformity of Cell Size': int(line[2]),\n",
    "            'Uniformity of Cell Shape': int(line[3]),\n",
    "            'Marginal Adhesion': int(line[4]),\n",
    "            'Single Epithelial Cell Size': int(line[5]),\n",
    "            'Bare Nuclei': int(line[6]),\n",
    "            'Bland Chromatin': int(line[7]),\n",
    "            'Normal Nucleoli': int(line[8]),\n",
    "            'Mitoses': int(line[9]),\n",
    "            'Class': 1 if int(line[10]) == 4 else 0,\n",
    "        })\n",
    "\n",
    "    df = pd.DataFrame(arr)\n",
    "    df.to_csv('实验一 线性模型 数据集/breast-cancer-wisconsin.csv')"
   ],
   "metadata": {
    "collapsed": false,
    "ExecuteTime": {
     "end_time": "2023-10-02T14:56:21.118773Z",
     "start_time": "2023-10-02T14:56:21.084870Z"
    }
   },
   "id": "488e9d616ed5d9c8"
  },
  {
   "cell_type": "markdown",
   "source": [
    "### 1. 手写代码"
   ],
   "metadata": {
    "collapsed": false
   },
   "id": "4e9f300bc221e35a"
  },
  {
   "cell_type": "code",
   "execution_count": 156,
   "outputs": [
    {
     "name": "stderr",
     "output_type": "stream",
     "text": [
      "100%|██████████| 1000/1000 [00:01<00:00, 757.95it/s]"
     ]
    },
    {
     "name": "stdout",
     "output_type": "stream",
     "text": [
      "[-4.06142267  1.52247686  0.15107139  0.5453952   0.32536976  0.67277934\n",
      "  1.36675944  0.6249277   0.586551   -0.14265028]\n",
      "预测 x: [[ 5  1  1  1  2  1  3  1  1]\n",
      " [ 5  4  4  5  7 10  3  2  1]\n",
      " [ 3  1  1  1  2  2  3  1  1]\n",
      " [ 6  8  8  1  3  4  3  7  1]\n",
      " [ 4  1  1  3  2  1  3  1  1]\n",
      " [ 8 10 10  8  7 10  9  7  1]\n",
      " [ 1  1  1  1  2 10  3  1  1]\n",
      " [ 2  1  2  1  2  1  3  1  1]\n",
      " [ 2  1  1  1  2  1  1  1  5]\n",
      " [ 4  2  1  1  2  1  2  1  1]]，\n",
      "预测 y: [1, 1, 1, 1, 1, 1, 1, 1, 1, 1]，\n",
      "真实 y: [[0]\n",
      " [0]\n",
      " [0]\n",
      " [0]\n",
      " [0]\n",
      " [1]\n",
      " [0]\n",
      " [0]\n",
      " [0]\n",
      " [0]]\n",
      "acc: 0.9084249084249084\n"
     ]
    },
    {
     "name": "stderr",
     "output_type": "stream",
     "text": [
      "\n"
     ]
    }
   ],
   "source": [
    "import numpy as np\n",
    "import pandas as pd\n",
    "from tqdm import tqdm\n",
    "\n",
    "\n",
    "def sigmoid(z):\n",
    "    return 1 / (1 + np.exp(-z))\n",
    "\n",
    "\n",
    "# 手写逻辑回归模型\n",
    "class LogisticModel:\n",
    "    def __init__(self, learning_rate=0.01, num_iterations=1000):\n",
    "        self.learning_rate = learning_rate\n",
    "        self.num_iterations = num_iterations\n",
    "        self.w = None\n",
    "\n",
    "    # 交叉熵损失函数\n",
    "    def _cost(self, h, y):\n",
    "        m = len(y)\n",
    "        cost = (-1 / m) * np.sum(y * np.log(h) + (1 - y) * np.log(1 - h))\n",
    "        return cost\n",
    "\n",
    "    # 训练，传入训练集的 X 向量的列表和 Y 的列表\n",
    "    def train(self, _X: np.ndarray, y: np.ndarray):\n",
    "        X = np.hstack((np.ones((_X.shape[0], 1)), _X))  # 添加偏置\n",
    "        m, n_features = X.shape\n",
    "        self.w = np.zeros(n_features)\n",
    "\n",
    "        for _ in tqdm(range(self.num_iterations)):\n",
    "            h = sigmoid(np.dot(X, self.w))\n",
    "\n",
    "            dw = (1 / m) * np.dot((h - y), X)\n",
    "            dw = np.sum(dw, axis=0)\n",
    "\n",
    "            self.w -= self.learning_rate * dw.T\n",
    "\n",
    "    # 加载模型，设置 W 向量\n",
    "    def load(self, w: np.ndarray):\n",
    "        self.w = w\n",
    "\n",
    "    # 预测，传入的为 X 向量\n",
    "    def predict(self, _X: np.ndarray):\n",
    "        X = np.hstack((np.ones((_X.shape[0], 1)), _X))  # 添加偏置\n",
    "        h = np.dot(X, self.w)\n",
    "        predictions = sigmoid(h)\n",
    "        predictions_cls = [1 if p >= 0.5 else 0 for p in predictions]\n",
    "        return predictions_cls\n",
    "\n",
    "    # 传入用于测试的 x，y\n",
    "    def test(self, _X: np.ndarray, _y: np.ndarray):\n",
    "        pred_y = self.predict(_X)\n",
    "        correct = 0\n",
    "        total = len(_y)\n",
    "        for i in range(total):\n",
    "            if pred_y[i] == _y[i]:\n",
    "                correct += 1\n",
    "\n",
    "        acc = correct / total\n",
    "        print(f'acc: {acc}')\n",
    "\n",
    "\n",
    "df = pd.read_csv('./实验一 线性模型 数据集/breast-cancer-wisconsin.csv')\n",
    "l = len(df)\n",
    "\n",
    "# 取前 80% 作为训练数据，后 20% 为测试数据\n",
    "train_data = df[:math.floor(l * 0.8)]\n",
    "test_data = df[math.floor(l * 0.8):]\n",
    "\n",
    "# 训练集 y 和 x\n",
    "train_y = np.array(train_data[['Class']])\n",
    "train_x = np.array(\n",
    "    train_data[['Clump Thickness', 'Uniformity of Cell Size', 'Uniformity of Cell Shape', 'Marginal Adhesion',\n",
    "                'Single Epithelial Cell Size', 'Bare Nuclei', 'Bland Chromatin', 'Normal Nucleoli', 'Mitoses']])\n",
    "n = len(train_y)\n",
    "\n",
    "# 测试集 y 和 x\n",
    "test_y = np.array(train_data[['Class']])\n",
    "test_x = np.array(\n",
    "    train_data[['Clump Thickness', 'Uniformity of Cell Size', 'Uniformity of Cell Shape', 'Marginal Adhesion',\n",
    "                'Single Epithelial Cell Size', 'Bare Nuclei', 'Bland Chromatin', 'Normal Nucleoli', 'Mitoses']])\n",
    "\n",
    "logistic_model = LogisticModel()\n",
    "\n",
    "# 归一化\n",
    "std = train_x.std(axis=0)\n",
    "mean = train_x.mean(axis=0)\n",
    "train_x_norm = (train_x - mean) / std\n",
    "\n",
    "logistic_model.train(train_x_norm, train_y)\n",
    "print(logistic_model.w)\n",
    "\n",
    "# 归一化\n",
    "std = test_x.std(axis=0)\n",
    "mean = test_x.mean(axis=0)\n",
    "test_x_norm = (test_x - mean) / std\n",
    "\n",
    "y_pred = logistic_model.predict(test_x[0:10])\n",
    "\n",
    "# 打印预测结果\n",
    "print(f'预测 x: {test_x[0:10]}，\\n预测 y: {y_pred}，\\n真实 y: {test_y[0:10]}')\n",
    "logistic_model.test(test_x_norm, test_y)\n",
    "# 未进行归一化时 acc 仅有 0.6，而归一化后可达 0.9"
   ],
   "metadata": {
    "collapsed": false,
    "ExecuteTime": {
     "end_time": "2023-10-02T14:56:22.451522Z",
     "start_time": "2023-10-02T14:56:21.117224Z"
    }
   },
   "id": "a257c9a75f4205e9"
  },
  {
   "cell_type": "markdown",
   "source": [
    "### 2. 调用 API"
   ],
   "metadata": {
    "collapsed": false
   },
   "id": "7eee8e73607b5570"
  },
  {
   "cell_type": "code",
   "execution_count": 157,
   "outputs": [
    {
     "name": "stdout",
     "output_type": "stream",
     "text": [
      "预测 x: [[ 5  1  1  1  2  1  3  1  1]\n",
      " [ 5  4  4  5  7 10  3  2  1]\n",
      " [ 3  1  1  1  2  2  3  1  1]\n",
      " [ 6  8  8  1  3  4  3  7  1]\n",
      " [ 4  1  1  3  2  1  3  1  1]\n",
      " [ 8 10 10  8  7 10  9  7  1]\n",
      " [ 1  1  1  1  2 10  3  1  1]\n",
      " [ 2  1  2  1  2  1  3  1  1]\n",
      " [ 2  1  1  1  2  1  1  1  5]\n",
      " [ 4  2  1  1  2  1  2  1  1]]，\n",
      "预测 y: [0 1 0 1 0 1 0 0 0 0]，\n",
      "真实 y: [[0]\n",
      " [0]\n",
      " [0]\n",
      " [0]\n",
      " [0]\n",
      " [1]\n",
      " [0]\n",
      " [0]\n",
      " [0]\n",
      " [0]]\n",
      "coef: [[ 0.52954629 -0.06077739  0.32907828  0.30437928  0.12910377  0.36743094\n",
      "   0.36931925  0.19495615  0.44411127]]\n",
      "acc: 0.9633699633699634\n"
     ]
    },
    {
     "name": "stderr",
     "output_type": "stream",
     "text": [
      "/Users/azurice/.local/share/virtualenvs/MachineLearning-2023-YtcuE3un/lib/python3.9/site-packages/sklearn/utils/validation.py:1183: DataConversionWarning: A column-vector y was passed when a 1d array was expected. Please change the shape of y to (n_samples, ), for example using ravel().\n",
      "  y = column_or_1d(y, warn=True)\n"
     ]
    }
   ],
   "source": [
    "from sklearn.linear_model import LogisticRegression\n",
    "\n",
    "# 创建逻辑回归模型\n",
    "model = LogisticRegression()\n",
    "\n",
    "# 拟合模型\n",
    "model.fit(train_x, train_y)\n",
    "\n",
    "# 使用模型进行预测\n",
    "y_pred = model.predict(test_x[0:10])\n",
    "\n",
    "# 打印预测结果\n",
    "print(f'预测 x: {test_x[0:10]}，\\n预测 y: {y_pred}，\\n真实 y: {test_y[0:10]}')\n",
    "\n",
    "print(f'coef: {model.coef_}')\n",
    "\n",
    "pred_y = model.predict(test_x)\n",
    "correct = 0\n",
    "total = len(test_y)\n",
    "for i in range(total):\n",
    "    if pred_y[i] == test_y[i]:\n",
    "        correct += 1\n",
    "\n",
    "acc = correct / total\n",
    "print(f'acc: {acc}')\n",
    "\n",
    "# 经过测试归一化与否并无影响"
   ],
   "metadata": {
    "collapsed": false,
    "ExecuteTime": {
     "end_time": "2023-10-02T14:56:22.496206Z",
     "start_time": "2023-10-02T14:56:22.456065Z"
    }
   },
   "id": "b40c4187823e44ba"
  }
 ],
 "metadata": {
  "kernelspec": {
   "display_name": "Python 3",
   "language": "python",
   "name": "python3"
  },
  "language_info": {
   "codemirror_mode": {
    "name": "ipython",
    "version": 2
   },
   "file_extension": ".py",
   "mimetype": "text/x-python",
   "name": "python",
   "nbconvert_exporter": "python",
   "pygments_lexer": "ipython2",
   "version": "2.7.6"
  }
 },
 "nbformat": 4,
 "nbformat_minor": 5
}
